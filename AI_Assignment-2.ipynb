{
  "nbformat": 4,
  "nbformat_minor": 0,
  "metadata": {
    "colab": {
      "provenance": []
    },
    "kernelspec": {
      "name": "python3",
      "display_name": "Python 3"
    },
    "language_info": {
      "name": "python"
    }
  },
  "cells": [
    {
      "cell_type": "code",
      "source": [
        "# importing the required libraries\n",
        "import pandas as pd\n",
        "import numpy as np\n",
        "import matplotlib.pyplot as plt\n",
        "import seaborn as sns"
      ],
      "metadata": {
        "id": "1NhN-PLwkmDz"
      },
      "execution_count": 56,
      "outputs": []
    },
    {
      "cell_type": "markdown",
      "source": [
        "Task 1: Read the dataset and do data pre-processing"
      ],
      "metadata": {
        "id": "kwEG7pk3_6ky"
      }
    },
    {
      "cell_type": "code",
      "source": [
        "#Reading the dataset\n",
        "df=pd.read_csv('drug200.csv')\n",
        "df.head()"
      ],
      "metadata": {
        "colab": {
          "base_uri": "https://localhost:8080/",
          "height": 206
        },
        "id": "MwGXlq1qkkqr",
        "outputId": "afd398bd-37db-41df-daf2-6cd032757ae9"
      },
      "execution_count": 57,
      "outputs": [
        {
          "output_type": "execute_result",
          "data": {
            "text/plain": [
              "   Age Sex      BP Cholesterol  Na_to_K   Drug\n",
              "0   23   F    HIGH        HIGH   25.355  DrugY\n",
              "1   47   M     LOW        HIGH   13.093  drugC\n",
              "2   47   M     LOW        HIGH   10.114  drugC\n",
              "3   28   F  NORMAL        HIGH    7.798  drugX\n",
              "4   61   F     LOW        HIGH   18.043  DrugY"
            ],
            "text/html": [
              "\n",
              "  <div id=\"df-1fd08fc2-e003-415a-9f44-2ce9bc5a314d\">\n",
              "    <div class=\"colab-df-container\">\n",
              "      <div>\n",
              "<style scoped>\n",
              "    .dataframe tbody tr th:only-of-type {\n",
              "        vertical-align: middle;\n",
              "    }\n",
              "\n",
              "    .dataframe tbody tr th {\n",
              "        vertical-align: top;\n",
              "    }\n",
              "\n",
              "    .dataframe thead th {\n",
              "        text-align: right;\n",
              "    }\n",
              "</style>\n",
              "<table border=\"1\" class=\"dataframe\">\n",
              "  <thead>\n",
              "    <tr style=\"text-align: right;\">\n",
              "      <th></th>\n",
              "      <th>Age</th>\n",
              "      <th>Sex</th>\n",
              "      <th>BP</th>\n",
              "      <th>Cholesterol</th>\n",
              "      <th>Na_to_K</th>\n",
              "      <th>Drug</th>\n",
              "    </tr>\n",
              "  </thead>\n",
              "  <tbody>\n",
              "    <tr>\n",
              "      <th>0</th>\n",
              "      <td>23</td>\n",
              "      <td>F</td>\n",
              "      <td>HIGH</td>\n",
              "      <td>HIGH</td>\n",
              "      <td>25.355</td>\n",
              "      <td>DrugY</td>\n",
              "    </tr>\n",
              "    <tr>\n",
              "      <th>1</th>\n",
              "      <td>47</td>\n",
              "      <td>M</td>\n",
              "      <td>LOW</td>\n",
              "      <td>HIGH</td>\n",
              "      <td>13.093</td>\n",
              "      <td>drugC</td>\n",
              "    </tr>\n",
              "    <tr>\n",
              "      <th>2</th>\n",
              "      <td>47</td>\n",
              "      <td>M</td>\n",
              "      <td>LOW</td>\n",
              "      <td>HIGH</td>\n",
              "      <td>10.114</td>\n",
              "      <td>drugC</td>\n",
              "    </tr>\n",
              "    <tr>\n",
              "      <th>3</th>\n",
              "      <td>28</td>\n",
              "      <td>F</td>\n",
              "      <td>NORMAL</td>\n",
              "      <td>HIGH</td>\n",
              "      <td>7.798</td>\n",
              "      <td>drugX</td>\n",
              "    </tr>\n",
              "    <tr>\n",
              "      <th>4</th>\n",
              "      <td>61</td>\n",
              "      <td>F</td>\n",
              "      <td>LOW</td>\n",
              "      <td>HIGH</td>\n",
              "      <td>18.043</td>\n",
              "      <td>DrugY</td>\n",
              "    </tr>\n",
              "  </tbody>\n",
              "</table>\n",
              "</div>\n",
              "      <button class=\"colab-df-convert\" onclick=\"convertToInteractive('df-1fd08fc2-e003-415a-9f44-2ce9bc5a314d')\"\n",
              "              title=\"Convert this dataframe to an interactive table.\"\n",
              "              style=\"display:none;\">\n",
              "        \n",
              "  <svg xmlns=\"http://www.w3.org/2000/svg\" height=\"24px\"viewBox=\"0 0 24 24\"\n",
              "       width=\"24px\">\n",
              "    <path d=\"M0 0h24v24H0V0z\" fill=\"none\"/>\n",
              "    <path d=\"M18.56 5.44l.94 2.06.94-2.06 2.06-.94-2.06-.94-.94-2.06-.94 2.06-2.06.94zm-11 1L8.5 8.5l.94-2.06 2.06-.94-2.06-.94L8.5 2.5l-.94 2.06-2.06.94zm10 10l.94 2.06.94-2.06 2.06-.94-2.06-.94-.94-2.06-.94 2.06-2.06.94z\"/><path d=\"M17.41 7.96l-1.37-1.37c-.4-.4-.92-.59-1.43-.59-.52 0-1.04.2-1.43.59L10.3 9.45l-7.72 7.72c-.78.78-.78 2.05 0 2.83L4 21.41c.39.39.9.59 1.41.59.51 0 1.02-.2 1.41-.59l7.78-7.78 2.81-2.81c.8-.78.8-2.07 0-2.86zM5.41 20L4 18.59l7.72-7.72 1.47 1.35L5.41 20z\"/>\n",
              "  </svg>\n",
              "      </button>\n",
              "      \n",
              "  <style>\n",
              "    .colab-df-container {\n",
              "      display:flex;\n",
              "      flex-wrap:wrap;\n",
              "      gap: 12px;\n",
              "    }\n",
              "\n",
              "    .colab-df-convert {\n",
              "      background-color: #E8F0FE;\n",
              "      border: none;\n",
              "      border-radius: 50%;\n",
              "      cursor: pointer;\n",
              "      display: none;\n",
              "      fill: #1967D2;\n",
              "      height: 32px;\n",
              "      padding: 0 0 0 0;\n",
              "      width: 32px;\n",
              "    }\n",
              "\n",
              "    .colab-df-convert:hover {\n",
              "      background-color: #E2EBFA;\n",
              "      box-shadow: 0px 1px 2px rgba(60, 64, 67, 0.3), 0px 1px 3px 1px rgba(60, 64, 67, 0.15);\n",
              "      fill: #174EA6;\n",
              "    }\n",
              "\n",
              "    [theme=dark] .colab-df-convert {\n",
              "      background-color: #3B4455;\n",
              "      fill: #D2E3FC;\n",
              "    }\n",
              "\n",
              "    [theme=dark] .colab-df-convert:hover {\n",
              "      background-color: #434B5C;\n",
              "      box-shadow: 0px 1px 3px 1px rgba(0, 0, 0, 0.15);\n",
              "      filter: drop-shadow(0px 1px 2px rgba(0, 0, 0, 0.3));\n",
              "      fill: #FFFFFF;\n",
              "    }\n",
              "  </style>\n",
              "\n",
              "      <script>\n",
              "        const buttonEl =\n",
              "          document.querySelector('#df-1fd08fc2-e003-415a-9f44-2ce9bc5a314d button.colab-df-convert');\n",
              "        buttonEl.style.display =\n",
              "          google.colab.kernel.accessAllowed ? 'block' : 'none';\n",
              "\n",
              "        async function convertToInteractive(key) {\n",
              "          const element = document.querySelector('#df-1fd08fc2-e003-415a-9f44-2ce9bc5a314d');\n",
              "          const dataTable =\n",
              "            await google.colab.kernel.invokeFunction('convertToInteractive',\n",
              "                                                     [key], {});\n",
              "          if (!dataTable) return;\n",
              "\n",
              "          const docLinkHtml = 'Like what you see? Visit the ' +\n",
              "            '<a target=\"_blank\" href=https://colab.research.google.com/notebooks/data_table.ipynb>data table notebook</a>'\n",
              "            + ' to learn more about interactive tables.';\n",
              "          element.innerHTML = '';\n",
              "          dataTable['output_type'] = 'display_data';\n",
              "          await google.colab.output.renderOutput(dataTable, element);\n",
              "          const docLink = document.createElement('div');\n",
              "          docLink.innerHTML = docLinkHtml;\n",
              "          element.appendChild(docLink);\n",
              "        }\n",
              "      </script>\n",
              "    </div>\n",
              "  </div>\n",
              "  "
            ]
          },
          "metadata": {},
          "execution_count": 57
        }
      ]
    },
    {
      "cell_type": "markdown",
      "source": [
        "Preprocessing"
      ],
      "metadata": {
        "id": "kqMVkKmm_eF0"
      }
    },
    {
      "cell_type": "code",
      "source": [
        "df.describe(include='all')"
      ],
      "metadata": {
        "colab": {
          "base_uri": "https://localhost:8080/",
          "height": 394
        },
        "id": "pU2gGIWtnPYK",
        "outputId": "c95a2ad4-106c-4989-982a-fecee8409b8b"
      },
      "execution_count": 58,
      "outputs": [
        {
          "output_type": "execute_result",
          "data": {
            "text/plain": [
              "               Age  Sex    BP Cholesterol     Na_to_K   Drug\n",
              "count   200.000000  200   200         200  200.000000    200\n",
              "unique         NaN    2     3           2         NaN      5\n",
              "top            NaN    M  HIGH        HIGH         NaN  DrugY\n",
              "freq           NaN  104    77         103         NaN     91\n",
              "mean     44.315000  NaN   NaN         NaN   16.084485    NaN\n",
              "std      16.544315  NaN   NaN         NaN    7.223956    NaN\n",
              "min      15.000000  NaN   NaN         NaN    6.269000    NaN\n",
              "25%      31.000000  NaN   NaN         NaN   10.445500    NaN\n",
              "50%      45.000000  NaN   NaN         NaN   13.936500    NaN\n",
              "75%      58.000000  NaN   NaN         NaN   19.380000    NaN\n",
              "max      74.000000  NaN   NaN         NaN   38.247000    NaN"
            ],
            "text/html": [
              "\n",
              "  <div id=\"df-cec47ddd-4b00-42ca-bbd3-bffb5206852d\">\n",
              "    <div class=\"colab-df-container\">\n",
              "      <div>\n",
              "<style scoped>\n",
              "    .dataframe tbody tr th:only-of-type {\n",
              "        vertical-align: middle;\n",
              "    }\n",
              "\n",
              "    .dataframe tbody tr th {\n",
              "        vertical-align: top;\n",
              "    }\n",
              "\n",
              "    .dataframe thead th {\n",
              "        text-align: right;\n",
              "    }\n",
              "</style>\n",
              "<table border=\"1\" class=\"dataframe\">\n",
              "  <thead>\n",
              "    <tr style=\"text-align: right;\">\n",
              "      <th></th>\n",
              "      <th>Age</th>\n",
              "      <th>Sex</th>\n",
              "      <th>BP</th>\n",
              "      <th>Cholesterol</th>\n",
              "      <th>Na_to_K</th>\n",
              "      <th>Drug</th>\n",
              "    </tr>\n",
              "  </thead>\n",
              "  <tbody>\n",
              "    <tr>\n",
              "      <th>count</th>\n",
              "      <td>200.000000</td>\n",
              "      <td>200</td>\n",
              "      <td>200</td>\n",
              "      <td>200</td>\n",
              "      <td>200.000000</td>\n",
              "      <td>200</td>\n",
              "    </tr>\n",
              "    <tr>\n",
              "      <th>unique</th>\n",
              "      <td>NaN</td>\n",
              "      <td>2</td>\n",
              "      <td>3</td>\n",
              "      <td>2</td>\n",
              "      <td>NaN</td>\n",
              "      <td>5</td>\n",
              "    </tr>\n",
              "    <tr>\n",
              "      <th>top</th>\n",
              "      <td>NaN</td>\n",
              "      <td>M</td>\n",
              "      <td>HIGH</td>\n",
              "      <td>HIGH</td>\n",
              "      <td>NaN</td>\n",
              "      <td>DrugY</td>\n",
              "    </tr>\n",
              "    <tr>\n",
              "      <th>freq</th>\n",
              "      <td>NaN</td>\n",
              "      <td>104</td>\n",
              "      <td>77</td>\n",
              "      <td>103</td>\n",
              "      <td>NaN</td>\n",
              "      <td>91</td>\n",
              "    </tr>\n",
              "    <tr>\n",
              "      <th>mean</th>\n",
              "      <td>44.315000</td>\n",
              "      <td>NaN</td>\n",
              "      <td>NaN</td>\n",
              "      <td>NaN</td>\n",
              "      <td>16.084485</td>\n",
              "      <td>NaN</td>\n",
              "    </tr>\n",
              "    <tr>\n",
              "      <th>std</th>\n",
              "      <td>16.544315</td>\n",
              "      <td>NaN</td>\n",
              "      <td>NaN</td>\n",
              "      <td>NaN</td>\n",
              "      <td>7.223956</td>\n",
              "      <td>NaN</td>\n",
              "    </tr>\n",
              "    <tr>\n",
              "      <th>min</th>\n",
              "      <td>15.000000</td>\n",
              "      <td>NaN</td>\n",
              "      <td>NaN</td>\n",
              "      <td>NaN</td>\n",
              "      <td>6.269000</td>\n",
              "      <td>NaN</td>\n",
              "    </tr>\n",
              "    <tr>\n",
              "      <th>25%</th>\n",
              "      <td>31.000000</td>\n",
              "      <td>NaN</td>\n",
              "      <td>NaN</td>\n",
              "      <td>NaN</td>\n",
              "      <td>10.445500</td>\n",
              "      <td>NaN</td>\n",
              "    </tr>\n",
              "    <tr>\n",
              "      <th>50%</th>\n",
              "      <td>45.000000</td>\n",
              "      <td>NaN</td>\n",
              "      <td>NaN</td>\n",
              "      <td>NaN</td>\n",
              "      <td>13.936500</td>\n",
              "      <td>NaN</td>\n",
              "    </tr>\n",
              "    <tr>\n",
              "      <th>75%</th>\n",
              "      <td>58.000000</td>\n",
              "      <td>NaN</td>\n",
              "      <td>NaN</td>\n",
              "      <td>NaN</td>\n",
              "      <td>19.380000</td>\n",
              "      <td>NaN</td>\n",
              "    </tr>\n",
              "    <tr>\n",
              "      <th>max</th>\n",
              "      <td>74.000000</td>\n",
              "      <td>NaN</td>\n",
              "      <td>NaN</td>\n",
              "      <td>NaN</td>\n",
              "      <td>38.247000</td>\n",
              "      <td>NaN</td>\n",
              "    </tr>\n",
              "  </tbody>\n",
              "</table>\n",
              "</div>\n",
              "      <button class=\"colab-df-convert\" onclick=\"convertToInteractive('df-cec47ddd-4b00-42ca-bbd3-bffb5206852d')\"\n",
              "              title=\"Convert this dataframe to an interactive table.\"\n",
              "              style=\"display:none;\">\n",
              "        \n",
              "  <svg xmlns=\"http://www.w3.org/2000/svg\" height=\"24px\"viewBox=\"0 0 24 24\"\n",
              "       width=\"24px\">\n",
              "    <path d=\"M0 0h24v24H0V0z\" fill=\"none\"/>\n",
              "    <path d=\"M18.56 5.44l.94 2.06.94-2.06 2.06-.94-2.06-.94-.94-2.06-.94 2.06-2.06.94zm-11 1L8.5 8.5l.94-2.06 2.06-.94-2.06-.94L8.5 2.5l-.94 2.06-2.06.94zm10 10l.94 2.06.94-2.06 2.06-.94-2.06-.94-.94-2.06-.94 2.06-2.06.94z\"/><path d=\"M17.41 7.96l-1.37-1.37c-.4-.4-.92-.59-1.43-.59-.52 0-1.04.2-1.43.59L10.3 9.45l-7.72 7.72c-.78.78-.78 2.05 0 2.83L4 21.41c.39.39.9.59 1.41.59.51 0 1.02-.2 1.41-.59l7.78-7.78 2.81-2.81c.8-.78.8-2.07 0-2.86zM5.41 20L4 18.59l7.72-7.72 1.47 1.35L5.41 20z\"/>\n",
              "  </svg>\n",
              "      </button>\n",
              "      \n",
              "  <style>\n",
              "    .colab-df-container {\n",
              "      display:flex;\n",
              "      flex-wrap:wrap;\n",
              "      gap: 12px;\n",
              "    }\n",
              "\n",
              "    .colab-df-convert {\n",
              "      background-color: #E8F0FE;\n",
              "      border: none;\n",
              "      border-radius: 50%;\n",
              "      cursor: pointer;\n",
              "      display: none;\n",
              "      fill: #1967D2;\n",
              "      height: 32px;\n",
              "      padding: 0 0 0 0;\n",
              "      width: 32px;\n",
              "    }\n",
              "\n",
              "    .colab-df-convert:hover {\n",
              "      background-color: #E2EBFA;\n",
              "      box-shadow: 0px 1px 2px rgba(60, 64, 67, 0.3), 0px 1px 3px 1px rgba(60, 64, 67, 0.15);\n",
              "      fill: #174EA6;\n",
              "    }\n",
              "\n",
              "    [theme=dark] .colab-df-convert {\n",
              "      background-color: #3B4455;\n",
              "      fill: #D2E3FC;\n",
              "    }\n",
              "\n",
              "    [theme=dark] .colab-df-convert:hover {\n",
              "      background-color: #434B5C;\n",
              "      box-shadow: 0px 1px 3px 1px rgba(0, 0, 0, 0.15);\n",
              "      filter: drop-shadow(0px 1px 2px rgba(0, 0, 0, 0.3));\n",
              "      fill: #FFFFFF;\n",
              "    }\n",
              "  </style>\n",
              "\n",
              "      <script>\n",
              "        const buttonEl =\n",
              "          document.querySelector('#df-cec47ddd-4b00-42ca-bbd3-bffb5206852d button.colab-df-convert');\n",
              "        buttonEl.style.display =\n",
              "          google.colab.kernel.accessAllowed ? 'block' : 'none';\n",
              "\n",
              "        async function convertToInteractive(key) {\n",
              "          const element = document.querySelector('#df-cec47ddd-4b00-42ca-bbd3-bffb5206852d');\n",
              "          const dataTable =\n",
              "            await google.colab.kernel.invokeFunction('convertToInteractive',\n",
              "                                                     [key], {});\n",
              "          if (!dataTable) return;\n",
              "\n",
              "          const docLinkHtml = 'Like what you see? Visit the ' +\n",
              "            '<a target=\"_blank\" href=https://colab.research.google.com/notebooks/data_table.ipynb>data table notebook</a>'\n",
              "            + ' to learn more about interactive tables.';\n",
              "          element.innerHTML = '';\n",
              "          dataTable['output_type'] = 'display_data';\n",
              "          await google.colab.output.renderOutput(dataTable, element);\n",
              "          const docLink = document.createElement('div');\n",
              "          docLink.innerHTML = docLinkHtml;\n",
              "          element.appendChild(docLink);\n",
              "        }\n",
              "      </script>\n",
              "    </div>\n",
              "  </div>\n",
              "  "
            ]
          },
          "metadata": {},
          "execution_count": 58
        }
      ]
    },
    {
      "cell_type": "code",
      "source": [
        "df.isnull().sum()"
      ],
      "metadata": {
        "colab": {
          "base_uri": "https://localhost:8080/"
        },
        "id": "FRUcmtHVntKG",
        "outputId": "e450e328-ba90-4e3a-cd09-8a2999f086b8"
      },
      "execution_count": 59,
      "outputs": [
        {
          "output_type": "execute_result",
          "data": {
            "text/plain": [
              "Age            0\n",
              "Sex            0\n",
              "BP             0\n",
              "Cholesterol    0\n",
              "Na_to_K        0\n",
              "Drug           0\n",
              "dtype: int64"
            ]
          },
          "metadata": {},
          "execution_count": 59
        }
      ]
    },
    {
      "cell_type": "code",
      "source": [
        "df.info()"
      ],
      "metadata": {
        "colab": {
          "base_uri": "https://localhost:8080/"
        },
        "id": "__pbMRcxnzdB",
        "outputId": "c18d54b2-03c1-48f3-8fba-03b9dd216ff6"
      },
      "execution_count": 60,
      "outputs": [
        {
          "output_type": "stream",
          "name": "stdout",
          "text": [
            "<class 'pandas.core.frame.DataFrame'>\n",
            "RangeIndex: 200 entries, 0 to 199\n",
            "Data columns (total 6 columns):\n",
            " #   Column       Non-Null Count  Dtype  \n",
            "---  ------       --------------  -----  \n",
            " 0   Age          200 non-null    int64  \n",
            " 1   Sex          200 non-null    object \n",
            " 2   BP           200 non-null    object \n",
            " 3   Cholesterol  200 non-null    object \n",
            " 4   Na_to_K      200 non-null    float64\n",
            " 5   Drug         200 non-null    object \n",
            "dtypes: float64(1), int64(1), object(4)\n",
            "memory usage: 9.5+ KB\n"
          ]
        }
      ]
    },
    {
      "cell_type": "code",
      "source": [
        "plt.pie(df.BP.value_counts(),labels=['High','Low','Normal'],colors = ['red','yellow','green'],shadow=True,autopct='%1.1f%%')"
      ],
      "metadata": {
        "colab": {
          "base_uri": "https://localhost:8080/",
          "height": 569
        },
        "id": "DDXpEX1mXZYI",
        "outputId": "43700831-9f59-4189-a97e-19938b6742c4"
      },
      "execution_count": 61,
      "outputs": [
        {
          "output_type": "execute_result",
          "data": {
            "text/plain": [
              "([<matplotlib.patches.Wedge at 0x7f64f6baaef0>,\n",
              "  <matplotlib.patches.Wedge at 0x7f64f6baa890>,\n",
              "  <matplotlib.patches.Wedge at 0x7f64f6b74bb0>],\n",
              " [Text(0.3888223589862547, 1.0289884222635182, 'High'),\n",
              "  Text(-1.0563230795297933, -0.3068901296110612, 'Low'),\n",
              "  Text(0.660462119378317, -0.8796532208014144, 'Normal')],\n",
              " [Text(0.21208492308341165, 0.5612664121437371, '38.5%'),\n",
              "  Text(-0.576176225198069, -0.1673946161514879, '32.0%'),\n",
              "  Text(0.3602520651154456, -0.4798108477098623, '29.5%')])"
            ]
          },
          "metadata": {},
          "execution_count": 61
        },
        {
          "output_type": "display_data",
          "data": {
            "text/plain": [
              "<Figure size 640x480 with 1 Axes>"
            ],
            "image/png": "[encoded data removed]"
          },
          "metadata": {}
        }
      ]
    },
    {
      "cell_type": "code",
      "source": [
        "sns.pairplot(df)"
      ],
      "metadata": {
        "colab": {
          "base_uri": "https://localhost:8080/",
          "height": 531
        },
        "id": "VlrrfZqGYIYu",
        "outputId": "090033ae-16dd-4d42-e554-5cc7cff80a15"
      },
      "execution_count": 62,
      "outputs": [
        {
          "output_type": "execute_result",
          "data": {
            "text/plain": [
              "<seaborn.axisgrid.PairGrid at 0x7f64f7911b10>"
            ]
          },
          "metadata": {},
          "execution_count": 62
        },
        {
          "output_type": "display_data",
          "data": {
            "text/plain": [
              "<Figure size 500x500 with 6 Axes>"
            ],
            "image/png": "[encoded data removed]"
          },
          "metadata": {}
        }
      ]
    },
    {
      "cell_type": "code",
      "source": [
        "sns.heatmap(df.corr())"
      ],
      "metadata": {
        "colab": {
          "base_uri": "https://localhost:8080/",
          "height": 509
        },
        "id": "tExr_tNIYdZR",
        "outputId": "ed79cb72-d0aa-493e-c1ab-c0480b19be38"
      },
      "execution_count": 63,
      "outputs": [
        {
          "output_type": "stream",
          "name": "stderr",
          "text": [
            "<ipython-input-63-aa4f4450a243>:1: FutureWarning: The default value of numeric_only in DataFrame.corr is deprecated. In a future version, it will default to False. Select only valid columns or specify the value of numeric_only to silence this warning.\n",
            "  sns.heatmap(df.corr())\n"
          ]
        },
        {
          "output_type": "execute_result",
          "data": {
            "text/plain": [
              "<Axes: >"
            ]
          },
          "metadata": {},
          "execution_count": 63
        },
        {
          "output_type": "display_data",
          "data": {
            "text/plain": [
              "<Figure size 640x480 with 2 Axes>"
            ],
            "image/png": "[encoded data removed]"
          },
          "metadata": {}
        }
      ]
    },
    {
      "cell_type": "code",
      "source": [
        "df['Drug'].unique()"
      ],
      "metadata": {
        "colab": {
          "base_uri": "https://localhost:8080/"
        },
        "id": "tAWpp9YKoA-N",
        "outputId": "4f7f9b1b-afff-418a-d47e-03a11abce139"
      },
      "execution_count": 64,
      "outputs": [
        {
          "output_type": "execute_result",
          "data": {
            "text/plain": [
              "array(['DrugY', 'drugC', 'drugX', 'drugA', 'drugB'], dtype=object)"
            ]
          },
          "metadata": {},
          "execution_count": 64
        }
      ]
    },
    {
      "cell_type": "code",
      "source": [
        "df['Drug'].value_counts()"
      ],
      "metadata": {
        "colab": {
          "base_uri": "https://localhost:8080/"
        },
        "id": "ueTgjaAwoDNO",
        "outputId": "161c2dd8-353a-459d-e7db-a855d4a52ef0"
      },
      "execution_count": 65,
      "outputs": [
        {
          "output_type": "execute_result",
          "data": {
            "text/plain": [
              "DrugY    91\n",
              "drugX    54\n",
              "drugA    23\n",
              "drugC    16\n",
              "drugB    16\n",
              "Name: Drug, dtype: int64"
            ]
          },
          "metadata": {},
          "execution_count": 65
        }
      ]
    },
    {
      "cell_type": "code",
      "source": [
        "from sklearn.preprocessing import LabelEncoder"
      ],
      "metadata": {
        "id": "tWcN2MWqomad"
      },
      "execution_count": 66,
      "outputs": []
    },
    {
      "cell_type": "code",
      "source": [
        "le=LabelEncoder()\n",
        "df['Sex']=le.fit_transform(df['Sex'])\n",
        "\n",
        "df['BP']=le.fit_transform(df['BP'])\n",
        "\n",
        "df['Cholesterol']=le.fit_transform(df['Cholesterol'])\n",
        "df"
      ],
      "metadata": {
        "colab": {
          "base_uri": "https://localhost:8080/",
          "height": 423
        },
        "id": "fbJqoqV4pJA9",
        "outputId": "bd4f2505-bceb-41c4-8dcc-335b9408c202"
      },
      "execution_count": 67,
      "outputs": [
        {
          "output_type": "execute_result",
          "data": {
            "text/plain": [
              "     Age  Sex  BP  Cholesterol  Na_to_K   Drug\n",
              "0     23    0   0            0   25.355  DrugY\n",
              "1     47    1   1            0   13.093  drugC\n",
              "2     47    1   1            0   10.114  drugC\n",
              "3     28    0   2            0    7.798  drugX\n",
              "4     61    0   1            0   18.043  DrugY\n",
              "..   ...  ...  ..          ...      ...    ...\n",
              "195   56    0   1            0   11.567  drugC\n",
              "196   16    1   1            0   12.006  drugC\n",
              "197   52    1   2            0    9.894  drugX\n",
              "198   23    1   2            1   14.020  drugX\n",
              "199   40    0   1            1   11.349  drugX\n",
              "\n",
              "[200 rows x 6 columns]"
            ],
            "text/html": [
              "\n",
              "  <div id=\"df-70041bde-9fa2-4217-8072-45140d4d39bb\">\n",
              "    <div class=\"colab-df-container\">\n",
              "      <div>\n",
              "<style scoped>\n",
              "    .dataframe tbody tr th:only-of-type {\n",
              "        vertical-align: middle;\n",
              "    }\n",
              "\n",
              "    .dataframe tbody tr th {\n",
              "        vertical-align: top;\n",
              "    }\n",
              "\n",
              "    .dataframe thead th {\n",
              "        text-align: right;\n",
              "    }\n",
              "</style>\n",
              "<table border=\"1\" class=\"dataframe\">\n",
              "  <thead>\n",
              "    <tr style=\"text-align: right;\">\n",
              "      <th></th>\n",
              "      <th>Age</th>\n",
              "      <th>Sex</th>\n",
              "      <th>BP</th>\n",
              "      <th>Cholesterol</th>\n",
              "      <th>Na_to_K</th>\n",
              "      <th>Drug</th>\n",
              "    </tr>\n",
              "  </thead>\n",
              "  <tbody>\n",
              "    <tr>\n",
              "      <th>0</th>\n",
              "      <td>23</td>\n",
              "      <td>0</td>\n",
              "      <td>0</td>\n",
              "      <td>0</td>\n",
              "      <td>25.355</td>\n",
              "      <td>DrugY</td>\n",
              "    </tr>\n",
              "    <tr>\n",
              "      <th>1</th>\n",
              "      <td>47</td>\n",
              "      <td>1</td>\n",
              "      <td>1</td>\n",
              "      <td>0</td>\n",
              "      <td>13.093</td>\n",
              "      <td>drugC</td>\n",
              "    </tr>\n",
              "    <tr>\n",
              "      <th>2</th>\n",
              "      <td>47</td>\n",
              "      <td>1</td>\n",
              "      <td>1</td>\n",
              "      <td>0</td>\n",
              "      <td>10.114</td>\n",
              "      <td>drugC</td>\n",
              "    </tr>\n",
              "    <tr>\n",
              "      <th>3</th>\n",
              "      <td>28</td>\n",
              "      <td>0</td>\n",
              "      <td>2</td>\n",
              "      <td>0</td>\n",
              "      <td>7.798</td>\n",
              "      <td>drugX</td>\n",
              "    </tr>\n",
              "    <tr>\n",
              "      <th>4</th>\n",
              "      <td>61</td>\n",
              "      <td>0</td>\n",
              "      <td>1</td>\n",
              "      <td>0</td>\n",
              "      <td>18.043</td>\n",
              "      <td>DrugY</td>\n",
              "    </tr>\n",
              "    <tr>\n",
              "      <th>...</th>\n",
              "      <td>...</td>\n",
              "      <td>...</td>\n",
              "      <td>...</td>\n",
              "      <td>...</td>\n",
              "      <td>...</td>\n",
              "      <td>...</td>\n",
              "    </tr>\n",
              "    <tr>\n",
              "      <th>195</th>\n",
              "      <td>56</td>\n",
              "      <td>0</td>\n",
              "      <td>1</td>\n",
              "      <td>0</td>\n",
              "      <td>11.567</td>\n",
              "      <td>drugC</td>\n",
              "    </tr>\n",
              "    <tr>\n",
              "      <th>196</th>\n",
              "      <td>16</td>\n",
              "      <td>1</td>\n",
              "      <td>1</td>\n",
              "      <td>0</td>\n",
              "      <td>12.006</td>\n",
              "      <td>drugC</td>\n",
              "    </tr>\n",
              "    <tr>\n",
              "      <th>197</th>\n",
              "      <td>52</td>\n",
              "      <td>1</td>\n",
              "      <td>2</td>\n",
              "      <td>0</td>\n",
              "      <td>9.894</td>\n",
              "      <td>drugX</td>\n",
              "    </tr>\n",
              "    <tr>\n",
              "      <th>198</th>\n",
              "      <td>23</td>\n",
              "      <td>1</td>\n",
              "      <td>2</td>\n",
              "      <td>1</td>\n",
              "      <td>14.020</td>\n",
              "      <td>drugX</td>\n",
              "    </tr>\n",
              "    <tr>\n",
              "      <th>199</th>\n",
              "      <td>40</td>\n",
              "      <td>0</td>\n",
              "      <td>1</td>\n",
              "      <td>1</td>\n",
              "      <td>11.349</td>\n",
              "      <td>drugX</td>\n",
              "    </tr>\n",
              "  </tbody>\n",
              "</table>\n",
              "<p>200 rows × 6 columns</p>\n",
              "</div>\n",
              "      <button class=\"colab-df-convert\" onclick=\"convertToInteractive('df-70041bde-9fa2-4217-8072-45140d4d39bb')\"\n",
              "              title=\"Convert this dataframe to an interactive table.\"\n",
              "              style=\"display:none;\">\n",
              "        \n",
              "  <svg xmlns=\"http://www.w3.org/2000/svg\" height=\"24px\"viewBox=\"0 0 24 24\"\n",
              "       width=\"24px\">\n",
              "    <path d=\"M0 0h24v24H0V0z\" fill=\"none\"/>\n",
              "    <path d=\"M18.56 5.44l.94 2.06.94-2.06 2.06-.94-2.06-.94-.94-2.06-.94 2.06-2.06.94zm-11 1L8.5 8.5l.94-2.06 2.06-.94-2.06-.94L8.5 2.5l-.94 2.06-2.06.94zm10 10l.94 2.06.94-2.06 2.06-.94-2.06-.94-.94-2.06-.94 2.06-2.06.94z\"/><path d=\"M17.41 7.96l-1.37-1.37c-.4-.4-.92-.59-1.43-.59-.52 0-1.04.2-1.43.59L10.3 9.45l-7.72 7.72c-.78.78-.78 2.05 0 2.83L4 21.41c.39.39.9.59 1.41.59.51 0 1.02-.2 1.41-.59l7.78-7.78 2.81-2.81c.8-.78.8-2.07 0-2.86zM5.41 20L4 18.59l7.72-7.72 1.47 1.35L5.41 20z\"/>\n",
              "  </svg>\n",
              "      </button>\n",
              "      \n",
              "  <style>\n",
              "    .colab-df-container {\n",
              "      display:flex;\n",
              "      flex-wrap:wrap;\n",
              "      gap: 12px;\n",
              "    }\n",
              "\n",
              "    .colab-df-convert {\n",
              "      background-color: #E8F0FE;\n",
              "      border: none;\n",
              "      border-radius: 50%;\n",
              "      cursor: pointer;\n",
              "      display: none;\n",
              "      fill: #1967D2;\n",
              "      height: 32px;\n",
              "      padding: 0 0 0 0;\n",
              "      width: 32px;\n",
              "    }\n",
              "\n",
              "    .colab-df-convert:hover {\n",
              "      background-color: #E2EBFA;\n",
              "      box-shadow: 0px 1px 2px rgba(60, 64, 67, 0.3), 0px 1px 3px 1px rgba(60, 64, 67, 0.15);\n",
              "      fill: #174EA6;\n",
              "    }\n",
              "\n",
              "    [theme=dark] .colab-df-convert {\n",
              "      background-color: #3B4455;\n",
              "      fill: #D2E3FC;\n",
              "    }\n",
              "\n",
              "    [theme=dark] .colab-df-convert:hover {\n",
              "      background-color: #434B5C;\n",
              "      box-shadow: 0px 1px 3px 1px rgba(0, 0, 0, 0.15);\n",
              "      filter: drop-shadow(0px 1px 2px rgba(0, 0, 0, 0.3));\n",
              "      fill: #FFFFFF;\n",
              "    }\n",
              "  </style>\n",
              "\n",
              "      <script>\n",
              "        const buttonEl =\n",
              "          document.querySelector('#df-70041bde-9fa2-4217-8072-45140d4d39bb button.colab-df-convert');\n",
              "        buttonEl.style.display =\n",
              "          google.colab.kernel.accessAllowed ? 'block' : 'none';\n",
              "\n",
              "        async function convertToInteractive(key) {\n",
              "          const element = document.querySelector('#df-70041bde-9fa2-4217-8072-45140d4d39bb');\n",
              "          const dataTable =\n",
              "            await google.colab.kernel.invokeFunction('convertToInteractive',\n",
              "                                                     [key], {});\n",
              "          if (!dataTable) return;\n",
              "\n",
              "          const docLinkHtml = 'Like what you see? Visit the ' +\n",
              "            '<a target=\"_blank\" href=https://colab.research.google.com/notebooks/data_table.ipynb>data table notebook</a>'\n",
              "            + ' to learn more about interactive tables.';\n",
              "          element.innerHTML = '';\n",
              "          dataTable['output_type'] = 'display_data';\n",
              "          await google.colab.output.renderOutput(dataTable, element);\n",
              "          const docLink = document.createElement('div');\n",
              "          docLink.innerHTML = docLinkHtml;\n",
              "          element.appendChild(docLink);\n",
              "        }\n",
              "      </script>\n",
              "    </div>\n",
              "  </div>\n",
              "  "
            ]
          },
          "metadata": {},
          "execution_count": 67
        }
      ]
    },
    {
      "cell_type": "code",
      "source": [
        "x=pd.get_dummies(df.iloc[:,1:5]).values\n",
        "x"
      ],
      "metadata": {
        "colab": {
          "base_uri": "https://localhost:8080/"
        },
        "id": "Lg7mQ1uWJVGM",
        "outputId": "6741a50c-8e79-4fdb-8c59-0b0e48c9daa4"
      },
      "execution_count": 68,
      "outputs": [
        {
          "output_type": "execute_result",
          "data": {
            "text/plain": [
              "array([[ 0.   ,  0.   ,  0.   , 25.355],\n",
              "       [ 1.   ,  1.   ,  0.   , 13.093],\n",
              "       [ 1.   ,  1.   ,  0.   , 10.114],\n",
              "       [ 0.   ,  2.   ,  0.   ,  7.798],\n",
              "       [ 0.   ,  1.   ,  0.   , 18.043],\n",
              "       [ 0.   ,  2.   ,  0.   ,  8.607],\n",
              "       [ 0.   ,  2.   ,  0.   , 16.275],\n",
              "       [ 1.   ,  1.   ,  0.   , 11.037],\n",
              "       [ 1.   ,  2.   ,  0.   , 15.171],\n",
              "       [ 1.   ,  1.   ,  1.   , 19.368],\n",
              "       [ 0.   ,  1.   ,  0.   , 11.767],\n",
              "       [ 0.   ,  0.   ,  1.   , 19.199],\n",
              "       [ 1.   ,  1.   ,  0.   , 15.376],\n",
              "       [ 0.   ,  1.   ,  0.   , 20.942],\n",
              "       [ 0.   ,  2.   ,  0.   , 12.703],\n",
              "       [ 0.   ,  0.   ,  1.   , 15.516],\n",
              "       [ 1.   ,  1.   ,  1.   , 11.455],\n",
              "       [ 1.   ,  0.   ,  0.   , 13.972],\n",
              "       [ 1.   ,  1.   ,  0.   ,  7.298],\n",
              "       [ 0.   ,  0.   ,  1.   , 25.974],\n",
              "       [ 1.   ,  1.   ,  1.   , 19.128],\n",
              "       [ 1.   ,  2.   ,  0.   , 25.917],\n",
              "       [ 1.   ,  1.   ,  1.   , 30.568],\n",
              "       [ 0.   ,  1.   ,  0.   , 15.036],\n",
              "       [ 0.   ,  1.   ,  0.   , 33.486],\n",
              "       [ 0.   ,  0.   ,  1.   , 18.809],\n",
              "       [ 1.   ,  0.   ,  0.   , 30.366],\n",
              "       [ 0.   ,  2.   ,  1.   ,  9.381],\n",
              "       [ 0.   ,  1.   ,  1.   , 22.697],\n",
              "       [ 1.   ,  1.   ,  0.   , 17.951],\n",
              "       [ 0.   ,  2.   ,  1.   ,  8.75 ],\n",
              "       [ 1.   ,  0.   ,  0.   ,  9.567],\n",
              "       [ 1.   ,  1.   ,  1.   , 11.014],\n",
              "       [ 0.   ,  0.   ,  1.   , 31.876],\n",
              "       [ 1.   ,  2.   ,  0.   , 14.133],\n",
              "       [ 1.   ,  2.   ,  1.   ,  7.285],\n",
              "       [ 1.   ,  0.   ,  1.   ,  9.445],\n",
              "       [ 1.   ,  1.   ,  1.   , 13.938],\n",
              "       [ 0.   ,  2.   ,  1.   ,  9.709],\n",
              "       [ 1.   ,  2.   ,  0.   ,  9.084],\n",
              "       [ 0.   ,  2.   ,  0.   , 19.221],\n",
              "       [ 0.   ,  0.   ,  1.   , 14.239],\n",
              "       [ 1.   ,  2.   ,  1.   , 15.79 ],\n",
              "       [ 1.   ,  2.   ,  0.   , 12.26 ],\n",
              "       [ 0.   ,  2.   ,  1.   , 12.295],\n",
              "       [ 0.   ,  2.   ,  1.   ,  8.107],\n",
              "       [ 0.   ,  0.   ,  0.   , 13.091],\n",
              "       [ 1.   ,  1.   ,  0.   , 10.291],\n",
              "       [ 1.   ,  2.   ,  0.   , 31.686],\n",
              "       [ 0.   ,  1.   ,  0.   , 19.796],\n",
              "       [ 0.   ,  0.   ,  0.   , 19.416],\n",
              "       [ 1.   ,  2.   ,  1.   , 10.898],\n",
              "       [ 1.   ,  1.   ,  1.   , 27.183],\n",
              "       [ 0.   ,  0.   ,  1.   , 18.457],\n",
              "       [ 0.   ,  0.   ,  1.   , 10.189],\n",
              "       [ 0.   ,  1.   ,  0.   , 14.16 ],\n",
              "       [ 1.   ,  0.   ,  1.   , 11.34 ],\n",
              "       [ 1.   ,  0.   ,  0.   , 27.826],\n",
              "       [ 1.   ,  2.   ,  1.   , 10.091],\n",
              "       [ 1.   ,  0.   ,  0.   , 18.703],\n",
              "       [ 0.   ,  1.   ,  1.   , 29.875],\n",
              "       [ 1.   ,  0.   ,  1.   ,  9.475],\n",
              "       [ 1.   ,  1.   ,  1.   , 20.693],\n",
              "       [ 1.   ,  1.   ,  1.   ,  8.37 ],\n",
              "       [ 0.   ,  0.   ,  0.   , 13.303],\n",
              "       [ 0.   ,  2.   ,  1.   , 27.05 ],\n",
              "       [ 1.   ,  0.   ,  0.   , 12.856],\n",
              "       [ 1.   ,  2.   ,  1.   , 10.832],\n",
              "       [ 1.   ,  2.   ,  0.   , 24.658],\n",
              "       [ 0.   ,  0.   ,  1.   , 24.276],\n",
              "       [ 1.   ,  0.   ,  0.   , 13.967],\n",
              "       [ 0.   ,  2.   ,  0.   , 19.675],\n",
              "       [ 0.   ,  2.   ,  0.   , 10.605],\n",
              "       [ 0.   ,  2.   ,  1.   , 22.905],\n",
              "       [ 1.   ,  0.   ,  1.   , 17.069],\n",
              "       [ 1.   ,  1.   ,  1.   , 20.909],\n",
              "       [ 0.   ,  0.   ,  0.   , 11.198],\n",
              "       [ 0.   ,  0.   ,  1.   , 19.161],\n",
              "       [ 0.   ,  0.   ,  0.   , 13.313],\n",
              "       [ 0.   ,  1.   ,  1.   , 10.84 ],\n",
              "       [ 1.   ,  0.   ,  0.   , 13.934],\n",
              "       [ 1.   ,  2.   ,  0.   ,  7.761],\n",
              "       [ 0.   ,  1.   ,  0.   ,  9.712],\n",
              "       [ 0.   ,  0.   ,  1.   , 11.326],\n",
              "       [ 0.   ,  1.   ,  0.   , 10.067],\n",
              "       [ 1.   ,  0.   ,  0.   , 13.935],\n",
              "       [ 0.   ,  2.   ,  0.   , 13.597],\n",
              "       [ 1.   ,  1.   ,  0.   , 15.478],\n",
              "       [ 0.   ,  0.   ,  1.   , 23.091],\n",
              "       [ 0.   ,  2.   ,  1.   , 17.211],\n",
              "       [ 1.   ,  2.   ,  0.   , 16.594],\n",
              "       [ 1.   ,  0.   ,  1.   , 15.156],\n",
              "       [ 0.   ,  0.   ,  0.   , 29.45 ],\n",
              "       [ 0.   ,  1.   ,  1.   , 29.271],\n",
              "       [ 1.   ,  1.   ,  0.   , 15.015],\n",
              "       [ 1.   ,  1.   ,  1.   , 11.424],\n",
              "       [ 0.   ,  1.   ,  0.   , 38.247],\n",
              "       [ 0.   ,  0.   ,  0.   , 25.395],\n",
              "       [ 1.   ,  0.   ,  1.   , 35.639],\n",
              "       [ 0.   ,  0.   ,  1.   , 16.725],\n",
              "       [ 1.   ,  0.   ,  1.   , 11.871],\n",
              "       [ 0.   ,  0.   ,  0.   , 12.854],\n",
              "       [ 0.   ,  1.   ,  0.   , 13.127],\n",
              "       [ 1.   ,  2.   ,  0.   ,  8.966],\n",
              "       [ 1.   ,  0.   ,  1.   , 28.294],\n",
              "       [ 1.   ,  1.   ,  1.   ,  8.968],\n",
              "       [ 1.   ,  2.   ,  0.   , 11.953],\n",
              "       [ 1.   ,  1.   ,  0.   , 20.013],\n",
              "       [ 1.   ,  0.   ,  1.   ,  9.677],\n",
              "       [ 1.   ,  2.   ,  0.   , 16.85 ],\n",
              "       [ 1.   ,  0.   ,  0.   ,  7.49 ],\n",
              "       [ 0.   ,  2.   ,  1.   ,  6.683],\n",
              "       [ 1.   ,  1.   ,  1.   ,  9.17 ],\n",
              "       [ 0.   ,  1.   ,  1.   , 13.769],\n",
              "       [ 0.   ,  2.   ,  1.   ,  9.281],\n",
              "       [ 1.   ,  0.   ,  0.   , 18.295],\n",
              "       [ 1.   ,  2.   ,  1.   ,  9.514],\n",
              "       [ 0.   ,  2.   ,  0.   , 10.103],\n",
              "       [ 0.   ,  0.   ,  1.   , 10.292],\n",
              "       [ 0.   ,  0.   ,  0.   , 25.475],\n",
              "       [ 1.   ,  2.   ,  0.   , 27.064],\n",
              "       [ 1.   ,  0.   ,  1.   , 17.206],\n",
              "       [ 1.   ,  2.   ,  0.   , 22.456],\n",
              "       [ 0.   ,  2.   ,  0.   , 16.753],\n",
              "       [ 0.   ,  0.   ,  1.   , 12.495],\n",
              "       [ 0.   ,  0.   ,  1.   , 25.969],\n",
              "       [ 1.   ,  0.   ,  0.   , 16.347],\n",
              "       [ 1.   ,  2.   ,  1.   ,  7.845],\n",
              "       [ 1.   ,  1.   ,  1.   , 33.542],\n",
              "       [ 0.   ,  2.   ,  0.   ,  7.477],\n",
              "       [ 0.   ,  2.   ,  0.   , 20.489],\n",
              "       [ 1.   ,  1.   ,  1.   , 32.922],\n",
              "       [ 1.   ,  1.   ,  1.   , 13.598],\n",
              "       [ 1.   ,  2.   ,  0.   , 25.786],\n",
              "       [ 0.   ,  0.   ,  0.   , 21.036],\n",
              "       [ 1.   ,  1.   ,  1.   , 11.939],\n",
              "       [ 0.   ,  0.   ,  0.   , 10.977],\n",
              "       [ 0.   ,  0.   ,  0.   , 12.894],\n",
              "       [ 1.   ,  0.   ,  1.   , 11.343],\n",
              "       [ 0.   ,  2.   ,  0.   , 10.065],\n",
              "       [ 1.   ,  0.   ,  1.   ,  6.269],\n",
              "       [ 0.   ,  1.   ,  1.   , 25.741],\n",
              "       [ 1.   ,  0.   ,  1.   ,  8.621],\n",
              "       [ 1.   ,  0.   ,  1.   , 15.436],\n",
              "       [ 1.   ,  0.   ,  0.   ,  9.664],\n",
              "       [ 1.   ,  2.   ,  0.   ,  9.443],\n",
              "       [ 0.   ,  1.   ,  1.   , 12.006],\n",
              "       [ 0.   ,  0.   ,  1.   , 12.307],\n",
              "       [ 0.   ,  1.   ,  1.   ,  7.34 ],\n",
              "       [ 1.   ,  1.   ,  0.   ,  8.151],\n",
              "       [ 1.   ,  0.   ,  1.   ,  8.7  ],\n",
              "       [ 1.   ,  0.   ,  0.   , 11.009],\n",
              "       [ 1.   ,  2.   ,  1.   ,  7.261],\n",
              "       [ 0.   ,  1.   ,  1.   , 14.642],\n",
              "       [ 1.   ,  1.   ,  1.   , 16.724],\n",
              "       [ 1.   ,  1.   ,  0.   , 10.537],\n",
              "       [ 1.   ,  0.   ,  1.   , 11.227],\n",
              "       [ 1.   ,  1.   ,  0.   , 22.963],\n",
              "       [ 0.   ,  1.   ,  0.   , 10.444],\n",
              "       [ 0.   ,  1.   ,  1.   , 12.923],\n",
              "       [ 0.   ,  2.   ,  0.   , 10.443],\n",
              "       [ 0.   ,  0.   ,  1.   ,  9.945],\n",
              "       [ 1.   ,  2.   ,  1.   , 12.859],\n",
              "       [ 0.   ,  0.   ,  1.   , 28.632],\n",
              "       [ 1.   ,  0.   ,  1.   , 19.007],\n",
              "       [ 1.   ,  1.   ,  0.   , 18.295],\n",
              "       [ 0.   ,  1.   ,  0.   , 26.645],\n",
              "       [ 0.   ,  2.   ,  0.   , 14.216],\n",
              "       [ 0.   ,  1.   ,  1.   , 23.003],\n",
              "       [ 0.   ,  0.   ,  0.   , 11.262],\n",
              "       [ 0.   ,  2.   ,  0.   , 12.879],\n",
              "       [ 1.   ,  1.   ,  1.   , 10.017],\n",
              "       [ 0.   ,  2.   ,  1.   , 17.225],\n",
              "       [ 0.   ,  1.   ,  1.   , 18.739],\n",
              "       [ 1.   ,  0.   ,  1.   , 12.766],\n",
              "       [ 0.   ,  0.   ,  0.   , 18.348],\n",
              "       [ 1.   ,  0.   ,  1.   , 10.446],\n",
              "       [ 1.   ,  2.   ,  0.   , 19.011],\n",
              "       [ 1.   ,  2.   ,  0.   , 15.969],\n",
              "       [ 0.   ,  2.   ,  0.   , 15.891],\n",
              "       [ 0.   ,  0.   ,  1.   , 22.818],\n",
              "       [ 0.   ,  2.   ,  0.   , 13.884],\n",
              "       [ 0.   ,  1.   ,  1.   , 11.686],\n",
              "       [ 0.   ,  0.   ,  1.   , 15.49 ],\n",
              "       [ 0.   ,  0.   ,  0.   , 37.188],\n",
              "       [ 0.   ,  2.   ,  1.   , 25.893],\n",
              "       [ 1.   ,  0.   ,  0.   ,  9.849],\n",
              "       [ 1.   ,  0.   ,  0.   , 10.403],\n",
              "       [ 1.   ,  0.   ,  1.   , 34.997],\n",
              "       [ 1.   ,  0.   ,  1.   , 20.932],\n",
              "       [ 1.   ,  0.   ,  0.   , 18.991],\n",
              "       [ 1.   ,  0.   ,  0.   ,  8.011],\n",
              "       [ 1.   ,  1.   ,  0.   , 16.31 ],\n",
              "       [ 1.   ,  1.   ,  0.   ,  6.769],\n",
              "       [ 0.   ,  0.   ,  0.   , 34.686],\n",
              "       [ 0.   ,  1.   ,  0.   , 11.567],\n",
              "       [ 1.   ,  1.   ,  0.   , 12.006],\n",
              "       [ 1.   ,  2.   ,  0.   ,  9.894],\n",
              "       [ 1.   ,  2.   ,  1.   , 14.02 ],\n",
              "       [ 0.   ,  1.   ,  1.   , 11.349]])"
            ]
          },
          "metadata": {},
          "execution_count": 68
        }
      ]
    },
    {
      "cell_type": "code",
      "source": [
        "y=pd.get_dummies(df.iloc[:,5:]).values\n",
        "y"
      ],
      "metadata": {
        "colab": {
          "base_uri": "https://localhost:8080/"
        },
        "id": "_O3__s-MJcZd",
        "outputId": "8fe272c8-de5a-4d13-cbdc-bcf849244f66"
      },
      "execution_count": 69,
      "outputs": [
        {
          "output_type": "execute_result",
          "data": {
            "text/plain": [
              "array([[1, 0, 0, 0, 0],\n",
              "       [0, 0, 0, 1, 0],\n",
              "       [0, 0, 0, 1, 0],\n",
              "       [0, 0, 0, 0, 1],\n",
              "       [1, 0, 0, 0, 0],\n",
              "       [0, 0, 0, 0, 1],\n",
              "       [1, 0, 0, 0, 0],\n",
              "       [0, 0, 0, 1, 0],\n",
              "       [1, 0, 0, 0, 0],\n",
              "       [1, 0, 0, 0, 0],\n",
              "       [0, 0, 0, 1, 0],\n",
              "       [1, 0, 0, 0, 0],\n",
              "       [1, 0, 0, 0, 0],\n",
              "       [1, 0, 0, 0, 0],\n",
              "       [0, 0, 0, 0, 1],\n",
              "       [1, 0, 0, 0, 0],\n",
              "       [0, 0, 0, 0, 1],\n",
              "       [0, 1, 0, 0, 0],\n",
              "       [0, 0, 0, 1, 0],\n",
              "       [1, 0, 0, 0, 0],\n",
              "       [1, 0, 0, 0, 0],\n",
              "       [1, 0, 0, 0, 0],\n",
              "       [1, 0, 0, 0, 0],\n",
              "       [1, 0, 0, 0, 0],\n",
              "       [1, 0, 0, 0, 0],\n",
              "       [1, 0, 0, 0, 0],\n",
              "       [1, 0, 0, 0, 0],\n",
              "       [0, 0, 0, 0, 1],\n",
              "       [1, 0, 0, 0, 0],\n",
              "       [1, 0, 0, 0, 0],\n",
              "       [0, 0, 0, 0, 1],\n",
              "       [0, 0, 1, 0, 0],\n",
              "       [0, 0, 0, 0, 1],\n",
              "       [1, 0, 0, 0, 0],\n",
              "       [0, 0, 0, 0, 1],\n",
              "       [0, 0, 0, 0, 1],\n",
              "       [0, 1, 0, 0, 0],\n",
              "       [0, 0, 0, 0, 1],\n",
              "       [0, 0, 0, 0, 1],\n",
              "       [0, 0, 0, 0, 1],\n",
              "       [1, 0, 0, 0, 0],\n",
              "       [0, 0, 1, 0, 0],\n",
              "       [1, 0, 0, 0, 0],\n",
              "       [0, 0, 0, 0, 1],\n",
              "       [0, 0, 0, 0, 1],\n",
              "       [0, 0, 0, 0, 1],\n",
              "       [0, 1, 0, 0, 0],\n",
              "       [0, 0, 0, 1, 0],\n",
              "       [1, 0, 0, 0, 0],\n",
              "       [1, 0, 0, 0, 0],\n",
              "       [1, 0, 0, 0, 0],\n",
              "       [0, 0, 0, 0, 1],\n",
              "       [1, 0, 0, 0, 0],\n",
              "       [1, 0, 0, 0, 0],\n",
              "       [0, 0, 1, 0, 0],\n",
              "       [0, 0, 0, 1, 0],\n",
              "       [0, 0, 1, 0, 0],\n",
              "       [1, 0, 0, 0, 0],\n",
              "       [0, 0, 0, 0, 1],\n",
              "       [1, 0, 0, 0, 0],\n",
              "       [1, 0, 0, 0, 0],\n",
              "       [0, 1, 0, 0, 0],\n",
              "       [1, 0, 0, 0, 0],\n",
              "       [0, 0, 0, 0, 1],\n",
              "       [0, 0, 1, 0, 0],\n",
              "       [1, 0, 0, 0, 0],\n",
              "       [0, 1, 0, 0, 0],\n",
              "       [0, 0, 0, 0, 1],\n",
              "       [1, 0, 0, 0, 0],\n",
              "       [1, 0, 0, 0, 0],\n",
              "       [0, 0, 1, 0, 0],\n",
              "       [1, 0, 0, 0, 0],\n",
              "       [0, 0, 0, 0, 1],\n",
              "       [1, 0, 0, 0, 0],\n",
              "       [1, 0, 0, 0, 0],\n",
              "       [1, 0, 0, 0, 0],\n",
              "       [0, 1, 0, 0, 0],\n",
              "       [1, 0, 0, 0, 0],\n",
              "       [0, 1, 0, 0, 0],\n",
              "       [0, 0, 0, 0, 1],\n",
              "       [0, 0, 1, 0, 0],\n",
              "       [0, 0, 0, 0, 1],\n",
              "       [0, 0, 0, 1, 0],\n",
              "       [0, 1, 0, 0, 0],\n",
              "       [0, 0, 0, 1, 0],\n",
              "       [0, 0, 1, 0, 0],\n",
              "       [0, 0, 0, 0, 1],\n",
              "       [1, 0, 0, 0, 0],\n",
              "       [1, 0, 0, 0, 0],\n",
              "       [1, 0, 0, 0, 0],\n",
              "       [1, 0, 0, 0, 0],\n",
              "       [1, 0, 0, 0, 0],\n",
              "       [1, 0, 0, 0, 0],\n",
              "       [1, 0, 0, 0, 0],\n",
              "       [1, 0, 0, 0, 0],\n",
              "       [0, 0, 0, 0, 1],\n",
              "       [1, 0, 0, 0, 0],\n",
              "       [1, 0, 0, 0, 0],\n",
              "       [1, 0, 0, 0, 0],\n",
              "       [1, 0, 0, 0, 0],\n",
              "       [0, 1, 0, 0, 0],\n",
              "       [0, 1, 0, 0, 0],\n",
              "       [0, 0, 0, 1, 0],\n",
              "       [0, 0, 0, 0, 1],\n",
              "       [1, 0, 0, 0, 0],\n",
              "       [0, 0, 0, 0, 1],\n",
              "       [0, 0, 0, 0, 1],\n",
              "       [1, 0, 0, 0, 0],\n",
              "       [0, 0, 1, 0, 0],\n",
              "       [1, 0, 0, 0, 0],\n",
              "       [0, 1, 0, 0, 0],\n",
              "       [0, 0, 0, 0, 1],\n",
              "       [0, 0, 0, 0, 1],\n",
              "       [0, 0, 0, 0, 1],\n",
              "       [0, 0, 0, 0, 1],\n",
              "       [1, 0, 0, 0, 0],\n",
              "       [0, 0, 0, 0, 1],\n",
              "       [0, 0, 0, 0, 1],\n",
              "       [0, 1, 0, 0, 0],\n",
              "       [1, 0, 0, 0, 0],\n",
              "       [1, 0, 0, 0, 0],\n",
              "       [1, 0, 0, 0, 0],\n",
              "       [1, 0, 0, 0, 0],\n",
              "       [1, 0, 0, 0, 0],\n",
              "       [0, 0, 1, 0, 0],\n",
              "       [1, 0, 0, 0, 0],\n",
              "       [1, 0, 0, 0, 0],\n",
              "       [0, 0, 0, 0, 1],\n",
              "       [1, 0, 0, 0, 0],\n",
              "       [0, 0, 0, 0, 1],\n",
              "       [1, 0, 0, 0, 0],\n",
              "       [1, 0, 0, 0, 0],\n",
              "       [0, 0, 0, 0, 1],\n",
              "       [1, 0, 0, 0, 0],\n",
              "       [1, 0, 0, 0, 0],\n",
              "       [0, 0, 0, 0, 1],\n",
              "       [0, 0, 1, 0, 0],\n",
              "       [0, 1, 0, 0, 0],\n",
              "       [0, 0, 1, 0, 0],\n",
              "       [0, 0, 0, 0, 1],\n",
              "       [0, 1, 0, 0, 0],\n",
              "       [1, 0, 0, 0, 0],\n",
              "       [0, 0, 1, 0, 0],\n",
              "       [1, 0, 0, 0, 0],\n",
              "       [0, 1, 0, 0, 0],\n",
              "       [0, 0, 0, 0, 1],\n",
              "       [0, 0, 0, 0, 1],\n",
              "       [0, 1, 0, 0, 0],\n",
              "       [0, 0, 0, 0, 1],\n",
              "       [0, 0, 0, 1, 0],\n",
              "       [0, 1, 0, 0, 0],\n",
              "       [0, 0, 1, 0, 0],\n",
              "       [0, 0, 0, 0, 1],\n",
              "       [0, 0, 0, 0, 1],\n",
              "       [1, 0, 0, 0, 0],\n",
              "       [0, 0, 0, 1, 0],\n",
              "       [0, 1, 0, 0, 0],\n",
              "       [1, 0, 0, 0, 0],\n",
              "       [0, 0, 0, 1, 0],\n",
              "       [0, 0, 0, 0, 1],\n",
              "       [0, 0, 0, 0, 1],\n",
              "       [0, 0, 1, 0, 0],\n",
              "       [0, 0, 0, 0, 1],\n",
              "       [1, 0, 0, 0, 0],\n",
              "       [1, 0, 0, 0, 0],\n",
              "       [1, 0, 0, 0, 0],\n",
              "       [1, 0, 0, 0, 0],\n",
              "       [0, 0, 0, 0, 1],\n",
              "       [1, 0, 0, 0, 0],\n",
              "       [0, 1, 0, 0, 0],\n",
              "       [0, 0, 0, 0, 1],\n",
              "       [0, 0, 0, 0, 1],\n",
              "       [1, 0, 0, 0, 0],\n",
              "       [1, 0, 0, 0, 0],\n",
              "       [0, 1, 0, 0, 0],\n",
              "       [1, 0, 0, 0, 0],\n",
              "       [0, 1, 0, 0, 0],\n",
              "       [1, 0, 0, 0, 0],\n",
              "       [1, 0, 0, 0, 0],\n",
              "       [1, 0, 0, 0, 0],\n",
              "       [1, 0, 0, 0, 0],\n",
              "       [0, 0, 0, 0, 1],\n",
              "       [0, 0, 0, 0, 1],\n",
              "       [1, 0, 0, 0, 0],\n",
              "       [1, 0, 0, 0, 0],\n",
              "       [1, 0, 0, 0, 0],\n",
              "       [0, 0, 1, 0, 0],\n",
              "       [0, 1, 0, 0, 0],\n",
              "       [1, 0, 0, 0, 0],\n",
              "       [1, 0, 0, 0, 0],\n",
              "       [1, 0, 0, 0, 0],\n",
              "       [0, 1, 0, 0, 0],\n",
              "       [1, 0, 0, 0, 0],\n",
              "       [0, 0, 0, 1, 0],\n",
              "       [1, 0, 0, 0, 0],\n",
              "       [0, 0, 0, 1, 0],\n",
              "       [0, 0, 0, 1, 0],\n",
              "       [0, 0, 0, 0, 1],\n",
              "       [0, 0, 0, 0, 1],\n",
              "       [0, 0, 0, 0, 1]], dtype=uint8)"
            ]
          },
          "metadata": {},
          "execution_count": 69
        }
      ]
    },
    {
      "cell_type": "code",
      "source": [
        "from sklearn.model_selection import train_test_split"
      ],
      "metadata": {
        "id": "dSQZxhaqp6L7"
      },
      "execution_count": 70,
      "outputs": []
    },
    {
      "cell_type": "code",
      "source": [
        "xtrain,xtest,ytrain,ytest = train_test_split(x,y,test_size=0.2,random_state=12)\n",
        "xtrain"
      ],
      "metadata": {
        "colab": {
          "base_uri": "https://localhost:8080/"
        },
        "id": "LlGGM9o_qHBt",
        "outputId": "6c8ee84f-9f2f-4135-95ff-3deecf226951"
      },
      "execution_count": 71,
      "outputs": [
        {
          "output_type": "execute_result",
          "data": {
            "text/plain": [
              "array([[ 0.   ,  0.   ,  1.   , 19.161],\n",
              "       [ 1.   ,  1.   ,  0.   , 10.291],\n",
              "       [ 1.   ,  1.   ,  0.   , 15.015],\n",
              "       [ 0.   ,  2.   ,  0.   , 12.703],\n",
              "       [ 0.   ,  0.   ,  1.   , 14.239],\n",
              "       [ 0.   ,  0.   ,  1.   , 25.969],\n",
              "       [ 1.   ,  1.   ,  0.   , 15.376],\n",
              "       [ 1.   ,  1.   ,  1.   , 32.922],\n",
              "       [ 1.   ,  1.   ,  1.   , 11.939],\n",
              "       [ 0.   ,  1.   ,  0.   , 33.486],\n",
              "       [ 1.   ,  2.   ,  0.   , 15.171],\n",
              "       [ 0.   ,  2.   ,  0.   , 19.221],\n",
              "       [ 0.   ,  0.   ,  0.   , 37.188],\n",
              "       [ 1.   ,  2.   ,  1.   ,  7.845],\n",
              "       [ 0.   ,  2.   ,  1.   ,  8.107],\n",
              "       [ 1.   ,  0.   ,  1.   ,  8.621],\n",
              "       [ 0.   ,  0.   ,  1.   , 31.876],\n",
              "       [ 1.   ,  1.   ,  0.   ,  8.151],\n",
              "       [ 0.   ,  0.   ,  1.   , 15.516],\n",
              "       [ 0.   ,  1.   ,  0.   , 11.567],\n",
              "       [ 1.   ,  1.   ,  1.   , 20.693],\n",
              "       [ 0.   ,  2.   ,  0.   , 16.275],\n",
              "       [ 0.   ,  1.   ,  1.   , 11.349],\n",
              "       [ 0.   ,  0.   ,  1.   , 12.495],\n",
              "       [ 1.   ,  2.   ,  0.   ,  9.443],\n",
              "       [ 1.   ,  2.   ,  0.   ,  9.084],\n",
              "       [ 1.   ,  2.   ,  1.   , 15.79 ],\n",
              "       [ 1.   ,  2.   ,  0.   , 16.594],\n",
              "       [ 1.   ,  0.   ,  0.   , 13.972],\n",
              "       [ 0.   ,  0.   ,  0.   , 19.416],\n",
              "       [ 1.   ,  2.   ,  0.   , 14.133],\n",
              "       [ 1.   ,  0.   ,  0.   , 12.856],\n",
              "       [ 1.   ,  0.   ,  0.   , 18.991],\n",
              "       [ 1.   ,  1.   ,  1.   , 13.938],\n",
              "       [ 0.   ,  2.   ,  1.   ,  9.709],\n",
              "       [ 0.   ,  2.   ,  0.   , 13.597],\n",
              "       [ 0.   ,  0.   ,  0.   , 13.303],\n",
              "       [ 1.   ,  0.   ,  1.   ,  6.269],\n",
              "       [ 0.   ,  0.   ,  1.   , 25.974],\n",
              "       [ 1.   ,  1.   ,  1.   , 10.017],\n",
              "       [ 0.   ,  2.   ,  0.   , 12.879],\n",
              "       [ 1.   ,  2.   ,  0.   ,  7.761],\n",
              "       [ 1.   ,  0.   ,  1.   , 15.436],\n",
              "       [ 1.   ,  0.   ,  0.   , 16.347],\n",
              "       [ 0.   ,  1.   ,  1.   , 12.923],\n",
              "       [ 1.   ,  0.   ,  0.   , 10.403],\n",
              "       [ 1.   ,  2.   ,  0.   ,  8.966],\n",
              "       [ 0.   ,  0.   ,  0.   , 13.313],\n",
              "       [ 1.   ,  2.   ,  0.   , 22.456],\n",
              "       [ 1.   ,  0.   ,  1.   , 11.227],\n",
              "       [ 0.   ,  0.   ,  0.   , 29.45 ],\n",
              "       [ 1.   ,  0.   ,  0.   , 30.366],\n",
              "       [ 0.   ,  2.   ,  0.   , 10.605],\n",
              "       [ 0.   ,  0.   ,  1.   , 11.326],\n",
              "       [ 0.   ,  0.   ,  0.   , 34.686],\n",
              "       [ 0.   ,  1.   ,  0.   , 11.767],\n",
              "       [ 0.   ,  0.   ,  0.   , 13.091],\n",
              "       [ 1.   ,  0.   ,  1.   ,  9.445],\n",
              "       [ 1.   ,  0.   ,  0.   ,  8.011],\n",
              "       [ 0.   ,  2.   ,  1.   ,  8.75 ],\n",
              "       [ 0.   ,  0.   ,  0.   , 11.262],\n",
              "       [ 0.   ,  2.   ,  0.   , 19.675],\n",
              "       [ 1.   ,  2.   ,  0.   , 15.969],\n",
              "       [ 0.   ,  1.   ,  1.   , 14.642],\n",
              "       [ 1.   ,  1.   ,  1.   , 27.183],\n",
              "       [ 0.   ,  0.   ,  0.   , 12.894],\n",
              "       [ 1.   ,  2.   ,  0.   , 31.686],\n",
              "       [ 1.   ,  0.   ,  0.   ,  9.849],\n",
              "       [ 1.   ,  1.   ,  0.   , 10.114],\n",
              "       [ 0.   ,  1.   ,  1.   , 22.697],\n",
              "       [ 1.   ,  1.   ,  0.   ,  6.769],\n",
              "       [ 0.   ,  0.   ,  1.   , 12.307],\n",
              "       [ 1.   ,  1.   ,  1.   , 19.368],\n",
              "       [ 1.   ,  2.   ,  0.   , 11.953],\n",
              "       [ 0.   ,  0.   ,  1.   , 24.276],\n",
              "       [ 1.   ,  1.   ,  0.   , 16.31 ],\n",
              "       [ 1.   ,  1.   ,  0.   , 22.963],\n",
              "       [ 0.   ,  0.   ,  0.   , 18.348],\n",
              "       [ 1.   ,  2.   ,  1.   , 14.02 ],\n",
              "       [ 0.   ,  0.   ,  0.   , 25.395],\n",
              "       [ 0.   ,  2.   ,  1.   ,  6.683],\n",
              "       [ 0.   ,  1.   ,  0.   , 13.127],\n",
              "       [ 1.   ,  1.   ,  0.   , 18.295],\n",
              "       [ 0.   ,  0.   ,  1.   , 10.189],\n",
              "       [ 1.   ,  0.   ,  0.   , 27.826],\n",
              "       [ 1.   ,  1.   ,  0.   , 15.478],\n",
              "       [ 1.   ,  0.   ,  1.   ,  8.7  ],\n",
              "       [ 1.   ,  2.   ,  1.   , 10.832],\n",
              "       [ 1.   ,  0.   ,  0.   , 13.934],\n",
              "       [ 1.   ,  1.   ,  1.   ,  9.17 ],\n",
              "       [ 0.   ,  0.   ,  0.   , 25.355],\n",
              "       [ 0.   ,  1.   ,  1.   ,  7.34 ],\n",
              "       [ 1.   ,  1.   ,  1.   , 16.724],\n",
              "       [ 1.   ,  2.   ,  0.   , 19.011],\n",
              "       [ 1.   ,  0.   ,  1.   , 15.156],\n",
              "       [ 0.   ,  2.   ,  1.   ,  9.281],\n",
              "       [ 1.   ,  0.   ,  0.   , 11.009],\n",
              "       [ 1.   ,  2.   ,  1.   ,  9.514],\n",
              "       [ 1.   ,  0.   ,  0.   ,  9.664],\n",
              "       [ 1.   ,  1.   ,  0.   ,  7.298],\n",
              "       [ 1.   ,  0.   ,  1.   , 34.997],\n",
              "       [ 1.   ,  2.   ,  0.   , 12.26 ],\n",
              "       [ 1.   ,  1.   ,  1.   ,  8.968],\n",
              "       [ 1.   ,  1.   ,  1.   , 19.128],\n",
              "       [ 1.   ,  0.   ,  1.   , 17.206],\n",
              "       [ 0.   ,  0.   ,  1.   , 16.725],\n",
              "       [ 0.   ,  1.   ,  0.   , 10.067],\n",
              "       [ 1.   ,  0.   ,  0.   , 18.703],\n",
              "       [ 1.   ,  2.   ,  1.   , 10.091],\n",
              "       [ 1.   ,  1.   ,  0.   , 12.006],\n",
              "       [ 0.   ,  1.   ,  1.   , 23.003],\n",
              "       [ 1.   ,  0.   ,  0.   , 13.967],\n",
              "       [ 0.   ,  1.   ,  1.   , 29.875],\n",
              "       [ 1.   ,  1.   ,  0.   , 20.013],\n",
              "       [ 0.   ,  0.   ,  1.   , 18.457],\n",
              "       [ 1.   ,  2.   ,  0.   , 24.658],\n",
              "       [ 1.   ,  0.   ,  0.   , 18.295],\n",
              "       [ 0.   ,  2.   ,  1.   , 12.295],\n",
              "       [ 0.   ,  2.   ,  1.   , 27.05 ],\n",
              "       [ 0.   ,  1.   ,  0.   , 18.043],\n",
              "       [ 1.   ,  0.   ,  1.   , 11.34 ],\n",
              "       [ 0.   ,  0.   ,  1.   , 18.809],\n",
              "       [ 0.   ,  1.   ,  1.   , 10.84 ],\n",
              "       [ 0.   ,  2.   ,  1.   ,  9.381],\n",
              "       [ 1.   ,  0.   ,  0.   ,  7.49 ],\n",
              "       [ 0.   ,  2.   ,  0.   , 10.443],\n",
              "       [ 1.   ,  0.   ,  1.   , 12.766],\n",
              "       [ 0.   ,  2.   ,  1.   , 22.905],\n",
              "       [ 1.   ,  2.   ,  0.   , 16.85 ],\n",
              "       [ 0.   ,  2.   ,  0.   , 16.753],\n",
              "       [ 1.   ,  2.   ,  0.   ,  9.894],\n",
              "       [ 0.   ,  1.   ,  1.   , 12.006],\n",
              "       [ 0.   ,  1.   ,  0.   , 38.247],\n",
              "       [ 0.   ,  0.   ,  0.   , 25.475],\n",
              "       [ 0.   ,  1.   ,  0.   , 10.444],\n",
              "       [ 0.   ,  0.   ,  1.   ,  9.945],\n",
              "       [ 0.   ,  0.   ,  1.   , 28.632],\n",
              "       [ 1.   ,  0.   ,  1.   , 11.871],\n",
              "       [ 1.   ,  2.   ,  1.   ,  7.285],\n",
              "       [ 0.   ,  2.   ,  1.   , 17.211],\n",
              "       [ 0.   ,  1.   ,  0.   ,  9.712],\n",
              "       [ 0.   ,  1.   ,  0.   , 20.942],\n",
              "       [ 1.   ,  0.   ,  1.   , 28.294],\n",
              "       [ 0.   ,  2.   ,  0.   , 10.103],\n",
              "       [ 1.   ,  1.   ,  1.   , 33.542],\n",
              "       [ 1.   ,  0.   ,  1.   , 17.069],\n",
              "       [ 0.   ,  0.   ,  1.   , 10.292],\n",
              "       [ 1.   ,  2.   ,  1.   , 12.859],\n",
              "       [ 0.   ,  1.   ,  1.   , 25.741],\n",
              "       [ 1.   ,  2.   ,  0.   , 25.786],\n",
              "       [ 0.   ,  0.   ,  1.   , 22.818],\n",
              "       [ 0.   ,  1.   ,  0.   , 19.796],\n",
              "       [ 1.   ,  1.   ,  1.   , 30.568],\n",
              "       [ 1.   ,  0.   ,  1.   , 10.446],\n",
              "       [ 0.   ,  0.   ,  0.   , 11.198],\n",
              "       [ 0.   ,  2.   ,  0.   ,  7.798],\n",
              "       [ 0.   ,  2.   ,  0.   , 20.489],\n",
              "       [ 0.   ,  0.   ,  0.   , 21.036],\n",
              "       [ 1.   ,  1.   ,  0.   , 10.537],\n",
              "       [ 1.   ,  1.   ,  1.   , 20.909]])"
            ]
          },
          "metadata": {},
          "execution_count": 71
        }
      ]
    },
    {
      "cell_type": "markdown",
      "source": [
        "Task 2: Build the ANN model with (input layer, min 3 hidden layers & output layer)"
      ],
      "metadata": {
        "id": "Fpo0qse8AgVS"
      }
    },
    {
      "cell_type": "code",
      "source": [
        "#Bulid a ANN model \n",
        "from tensorflow.keras.models import Sequential\n",
        "from tensorflow.keras.layers import Dense"
      ],
      "metadata": {
        "id": "5bVc4L-eqK5H"
      },
      "execution_count": 72,
      "outputs": []
    },
    {
      "cell_type": "markdown",
      "source": [
        "Classification"
      ],
      "metadata": {
        "id": "07cOxMFWApQ_"
      }
    },
    {
      "cell_type": "code",
      "source": [
        "#intialize the sequence model\n",
        "cla_model=Sequential()\n",
        "#adding the input layer to the model\n",
        "cla_model.add(Dense(5,activation='relu'))\n",
        "#adding the 1st hidden layer to the model\n",
        "cla_model.add(Dense(64,activation='relu'))\n",
        "#adding the 2st hidden layer to the model\n",
        "cla_model.add(Dense(32,activation='relu'))\n",
        "#adding the 3st hidden layer to the model\n",
        "cla_model.add(Dense(24,activation='relu'))\n",
        "#adding output layer\n",
        "cla_model.add(Dense(5,activation='softmax'))"
      ],
      "metadata": {
        "id": "R3onX1HTqUCZ"
      },
      "execution_count": 73,
      "outputs": []
    },
    {
      "cell_type": "code",
      "source": [
        "# Compiling the skeleton with loss and gradient decent\n",
        "cla_model.compile(optimizer='adam',loss='categorical_crossentropy',metrics=['accuracy'])"
      ],
      "metadata": {
        "id": "Ayaq1dWOqjfe"
      },
      "execution_count": 74,
      "outputs": []
    },
    {
      "cell_type": "code",
      "source": [
        "# Training the model\n",
        "cla_model.fit(xtrain,ytrain,batch_size=4,epochs=10,validation_data=(xtest,ytest))"
      ],
      "metadata": {
        "colab": {
          "base_uri": "https://localhost:8080/"
        },
        "id": "oL-O5h-gqmCg",
        "outputId": "989133df-8c44-4488-f43b-11e1f721c608"
      },
      "execution_count": 75,
      "outputs": [
        {
          "output_type": "stream",
          "name": "stdout",
          "text": [
            "Epoch 1/10\n",
            "40/40 [==============================] - 1s 7ms/step - loss: 1.2065 - accuracy: 0.5000 - val_loss: 1.1820 - val_accuracy: 0.4250\n",
            "Epoch 2/10\n",
            "40/40 [==============================] - 0s 3ms/step - loss: 1.0659 - accuracy: 0.5813 - val_loss: 1.0879 - val_accuracy: 0.6250\n",
            "Epoch 3/10\n",
            "40/40 [==============================] - 0s 5ms/step - loss: 0.9821 - accuracy: 0.6438 - val_loss: 1.1146 - val_accuracy: 0.5250\n",
            "Epoch 4/10\n",
            "40/40 [==============================] - 0s 4ms/step - loss: 0.9193 - accuracy: 0.6438 - val_loss: 0.9288 - val_accuracy: 0.6750\n",
            "Epoch 5/10\n",
            "40/40 [==============================] - 0s 4ms/step - loss: 0.8320 - accuracy: 0.6812 - val_loss: 0.8192 - val_accuracy: 0.6500\n",
            "Epoch 6/10\n",
            "40/40 [==============================] - 0s 4ms/step - loss: 0.7789 - accuracy: 0.6750 - val_loss: 0.7730 - val_accuracy: 0.6750\n",
            "Epoch 7/10\n",
            "40/40 [==============================] - 0s 4ms/step - loss: 0.7301 - accuracy: 0.6812 - val_loss: 0.8233 - val_accuracy: 0.6500\n",
            "Epoch 8/10\n",
            "40/40 [==============================] - 0s 4ms/step - loss: 0.7217 - accuracy: 0.6687 - val_loss: 0.8339 - val_accuracy: 0.6250\n",
            "Epoch 9/10\n",
            "40/40 [==============================] - 0s 5ms/step - loss: 0.6729 - accuracy: 0.6750 - val_loss: 0.6828 - val_accuracy: 0.7250\n",
            "Epoch 10/10\n",
            "40/40 [==============================] - 0s 4ms/step - loss: 0.6449 - accuracy: 0.7250 - val_loss: 0.8338 - val_accuracy: 0.6500\n"
          ]
        },
        {
          "output_type": "execute_result",
          "data": {
            "text/plain": [
              "<keras.callbacks.History at 0x7f64f4de0580>"
            ]
          },
          "metadata": {},
          "execution_count": 75
        }
      ]
    },
    {
      "cell_type": "markdown",
      "source": [
        "Regression"
      ],
      "metadata": {
        "id": "WGbxDPic9c7S"
      }
    },
    {
      "cell_type": "code",
      "source": [
        "# Initializing the seq model\n",
        "reg_model = Sequential()\n",
        "# Adding the input layer to the model\n",
        "reg_model.add(Dense(4,activation='relu'))\n",
        "# Adding the 1st hidden layer to the model\n",
        "reg_model.add(Dense(64,activation='relu'))\n",
        "# Adding the 2nd hidden layer to the model\n",
        "reg_model.add(Dense(24,activation='relu'))\n",
        "# Adding the 3nd hidden layer to the model\n",
        "reg_model.add(Dense(32,activation='relu'))\n",
        "# Adding output layer\n",
        "reg_model.add(Dense(1,activation='linear')) "
      ],
      "metadata": {
        "id": "h-uwEdLUKpJ7"
      },
      "execution_count": 76,
      "outputs": []
    },
    {
      "cell_type": "code",
      "source": [
        "# Compiling the skeleton with loss and gradient decent\n",
        "\n",
        "reg_model.compile(optimizer='adam',loss='mse')"
      ],
      "metadata": {
        "id": "8SUfvFmy-fC2"
      },
      "execution_count": 77,
      "outputs": []
    },
    {
      "cell_type": "code",
      "source": [
        "# Training the model\n",
        "\n",
        "reg_model.fit(xtrain,ytrain,batch_size=4,epochs=10)"
      ],
      "metadata": {
        "colab": {
          "base_uri": "https://localhost:8080/"
        },
        "id": "OQNlwhzk--VW",
        "outputId": "99f81c0a-98ad-49f7-fb46-b29d8e3e4bdf"
      },
      "execution_count": null,
      "outputs": [
        {
          "output_type": "stream",
          "name": "stdout",
          "text": [
            "Epoch 1/10\n"
          ]
        }
      ]
    },
    {
      "cell_type": "code",
      "source": [
        "#testing the model\n",
        "ypredict=reg_model.predict(xtest)\n",
        "comp=pd.DataFrame(ypredict)\n",
        "comp.columns=['Actual Values']\n",
        "comp['Predicted Values']=ypredict\n",
        "comp"
      ],
      "metadata": {
        "id": "tJNhDhv7_ARN"
      },
      "execution_count": null,
      "outputs": []
    },
    {
      "cell_type": "markdown",
      "source": [
        "Task 3: Test the model with random data"
      ],
      "metadata": {
        "id": "KWMo-jnpA1Is"
      }
    },
    {
      "cell_type": "code",
      "source": [
        "#prediction\n",
        "reg_model.predict([[324234,4545455,232323,2]])"
      ],
      "metadata": {
        "id": "ogwQGyCC_E8q"
      },
      "execution_count": null,
      "outputs": []
    }
  ]
}
